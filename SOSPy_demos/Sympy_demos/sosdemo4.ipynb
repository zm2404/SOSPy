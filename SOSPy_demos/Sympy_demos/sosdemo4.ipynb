{
 "cells": [
  {
   "cell_type": "markdown",
   "id": "f33545e8",
   "metadata": {},
   "source": [
    "This demo is from demo 4 in [1]."
   ]
  },
  {
   "cell_type": "code",
   "execution_count": 1,
   "id": "b984da23",
   "metadata": {},
   "outputs": [],
   "source": [
    "from SOSPy import *\n",
    "from sympy import symbols, Matrix\n",
    "import time"
   ]
  },
  {
   "cell_type": "markdown",
   "id": "5b6bba3b",
   "metadata": {},
   "source": [
    "## Matrix Copositivity"
   ]
  },
  {
   "cell_type": "markdown",
   "id": "d855dcc6",
   "metadata": {},
   "source": [
    "A matrix $J \\in \\mathbb{R}^{n\\times n}$ is copositive if $y^TJy \\geq 0$ for all $y \\in \\mathbb{R}^n, y_i \\geq 0$. It is known that checking copositivity of a matrix is a co-NP complete problem. However, one relaxation is performed by writing $y_i = x_i^2$, and checking if"
   ]
  },
  {
   "cell_type": "markdown",
   "id": "1a4d757f",
   "metadata": {},
   "source": [
    "\\begin{gather*}\n",
    "    \\left(\\sum^n_{i=1}\\,x_i^2\\right)^m\n",
    "    \\begin{bmatrix}x_1^2\\\\ \\vdots \\\\ x_n^2 \\end{bmatrix}^T J \\begin{bmatrix}x_1^2\\\\ \\vdots \\\\ x_n^2 \\end{bmatrix}\n",
    "    \\triangleq R(x)\n",
    "\\end{gather*}"
   ]
  },
  {
   "cell_type": "markdown",
   "id": "718db0a5",
   "metadata": {},
   "source": [
    "is an SOS.\n",
    "\n",
    "Consider the matrix"
   ]
  },
  {
   "cell_type": "markdown",
   "id": "6b42dba2",
   "metadata": {},
   "source": [
    "\\begin{gather*}\n",
    "    J = \n",
    "    \\begin{bmatrix}\n",
    "        1 & -1 & 1 & 1 & -1 \\\\\n",
    "        -1 & 1 & -1 & 1 & 1 \\\\\n",
    "        1 & -1 & 1 & -1 & 1 \\\\\n",
    "        1 & 1 & -1 & 1 & -1 \\\\\n",
    "        -1 & 1 & 1 & -1 & 1\n",
    "    \\end{bmatrix}\n",
    "\\end{gather*}"
   ]
  },
  {
   "cell_type": "markdown",
   "id": "2e5d86f3",
   "metadata": {},
   "source": [
    "It is known that the this matrix is copositive. We will prove this using SOSPy."
   ]
  },
  {
   "cell_type": "code",
   "execution_count": 2,
   "id": "3a628ef1",
   "metadata": {},
   "outputs": [
    {
     "name": "stdout",
     "output_type": "stream",
     "text": [
      "Installed SDP solvers:  ['MOSEK', 'CVXOPT', 'SCS', 'SDPA']\n",
      "\n",
      " Residual norm 1.3322676295501888e-15\n",
      "cpusec: 2.07366\n",
      "iter: 11\n",
      "status: optimal\n",
      "pinf: 0.0\n",
      "dinf: 0.0\n"
     ]
    }
   ],
   "source": [
    "x1,x2,x3,x4,x5 = symbols(\"x1,x2,x3,x4,x5\")\n",
    "vartable = [x1,x2,x3,x4,x5]\n",
    "\n",
    "# The matrix under consideration\n",
    "J = Matrix([[1,-1,1,1,-1],[-1,1,-1,1,1],[1,-1,1,-1,1],[1,1,-1,1,-1],[-1,1,1,-1,1]])\n",
    "\n",
    "# =============================================\n",
    "# First, initialize the sum of squares program\n",
    "prog = sosprogram(vartable)\n",
    "\n",
    "# =============================================\n",
    "# Next, define SOSP constraints\n",
    "# Constraint : R(x) >= 0\n",
    "J = Matrix([x1**2, x2**2, x3**2, x4**2, x5**2]).transpose() * J * Matrix([x1**2, x2**2, x3**2, x4**2, x5**2])\n",
    "r = x1**2 + x2**2 + x3**2 + x4**2 + x5**2  # m = 1\n",
    "\n",
    "prog = sosineq(prog,r*J)\n",
    "\n",
    "# =============================================\n",
    "# And call solver\n",
    "options = {}\n",
    "options['solver'] = 'cvxopt'\n",
    "prog = sossolve(prog,options,verbose=0)"
   ]
  },
  {
   "cell_type": "markdown",
   "id": "0a694fee",
   "metadata": {},
   "source": [
    "The program is feasible, so the matirx J is copositive."
   ]
  },
  {
   "cell_type": "markdown",
   "id": "2997c46b",
   "metadata": {},
   "source": [
    "### Citation:\n",
    "\n",
    "[1]: A. Papachristodoulou, J. Anderson, G. Valmorbida, S. Prajna, P. Seiler, P. A. Parrilo, M. M. Peet, and D. Jagt, \"4.4 Matrix Copositivity,\" in _Sum of Squares Optimization Toolbox for MATLAB, User’s guide_, Version 4.00, 2021, pp. 40-42."
   ]
  },
  {
   "cell_type": "code",
   "execution_count": null,
   "id": "0d0c4c0b",
   "metadata": {},
   "outputs": [],
   "source": []
  }
 ],
 "metadata": {
  "kernelspec": {
   "display_name": "Python 3 (ipykernel)",
   "language": "python",
   "name": "python3"
  },
  "language_info": {
   "codemirror_mode": {
    "name": "ipython",
    "version": 3
   },
   "file_extension": ".py",
   "mimetype": "text/x-python",
   "name": "python",
   "nbconvert_exporter": "python",
   "pygments_lexer": "ipython3",
   "version": "3.10.9"
  }
 },
 "nbformat": 4,
 "nbformat_minor": 5
}
