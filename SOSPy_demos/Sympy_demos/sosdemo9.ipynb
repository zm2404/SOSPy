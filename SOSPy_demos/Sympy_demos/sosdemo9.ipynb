{
 "cells": [
  {
   "cell_type": "markdown",
   "id": "001c75d3",
   "metadata": {},
   "source": [
    "This demo is from demo 9 in [1]."
   ]
  },
  {
   "cell_type": "code",
   "execution_count": 1,
   "id": "f9019bf1",
   "metadata": {},
   "outputs": [],
   "source": [
    "from sympy import Matrix, symbols\n",
    "from SOSPy import *\n",
    "import time"
   ]
  },
  {
   "cell_type": "markdown",
   "id": "99326084",
   "metadata": {},
   "source": [
    "## SOS Matrix Decomposition\n",
    "\n",
    "In this demo, we determine if an $r \\times r$ polynomial matrix $P$ is an SOS matrix. And if $P$ is SOS then we compute the matrix decomposition $P(x) = H^T(x)H(x)$. These processes are done in the function **findsos()**. We use the matrix:"
   ]
  },
  {
   "cell_type": "markdown",
   "id": "1e3c738a",
   "metadata": {},
   "source": [
    "\\begin{gather*}\n",
    "    P(x) = \n",
    "    \\begin{bmatrix}\n",
    "       x_1^4+x_1^2x_2^2+x_1^2x_3^2 & x_1x_2x_3^2-x_1^3x_2-x_1x_2(x_2^2+2x_3^2) \\\\\n",
    "       x_1x_2x_3^2-x_1^3x_2-x_1x_2(x_2^2+2x_3^2) & x_1^2x_2^2+x_2^2x_3^2+(x_2^2+2x_3^2)^2\n",
    "    \\end{bmatrix}\n",
    "\\end{gather*}"
   ]
  },
  {
   "cell_type": "markdown",
   "id": "cfc18d66",
   "metadata": {},
   "source": [
    "The **findsos()** function returns the arguments **Q**, **Z**, and **Hsol** such that "
   ]
  },
  {
   "cell_type": "markdown",
   "id": "b145510e",
   "metadata": {},
   "source": [
    "\\begin{gather*}\n",
    "    H(x) = (I_r \\otimes Z(x))^T Q (I_r \\otimes Z(x))\n",
    "\\end{gather*}"
   ]
  },
  {
   "cell_type": "markdown",
   "id": "82285ede",
   "metadata": {},
   "source": [
    "where $I_r$ is the $r \\times r$ identity matrix, $Q$ is a positive semidefinite matrix and $Z(x)$ is a vector of monomials."
   ]
  },
  {
   "cell_type": "code",
   "execution_count": 2,
   "id": "3c5f1e6f",
   "metadata": {},
   "outputs": [
    {
     "name": "stdout",
     "output_type": "stream",
     "text": [
      "Installed SDP solvers:  ['MOSEK', 'CVXOPT', 'SCS', 'SDPA']\n",
      "\n",
      " Residual norm 1.0990647210786425e-15\n",
      "cpusec: 0.07261\n",
      "iter: 13\n",
      "status: optimal\n",
      "pinf: 0.0\n",
      "dinf: 0.0\n"
     ]
    }
   ],
   "source": [
    "x1,x2,x3 = symbols(\"x1,x2,x3\")\n",
    "\n",
    "p1 = x1**4+x1**2*x2**2+x1**2*x3**2\n",
    "p2 = x1*x2*x3**2-x1**3*x2-x1*x2*(x2**2+2*x3**2)\n",
    "p3 = x1**2*x2**2+x2**2*x3**2+(x2**2+2*x3**2)**2\n",
    "P = Matrix([[p1,p2],[p2,p3]])\n",
    "\n",
    "# Test if P(x1,x2,x3) is an SOS matrix and return H so that P = H.'*H\n",
    "options = {}\n",
    "options['solver'] = 'cvxopt'\n",
    "Q,Z,H,Den = findsos(P,options=options,verbose=0)\n",
    "# =============================================\n",
    "# If program is feasible, P(x1,x2,x3) is an SOS matrix."
   ]
  },
  {
   "cell_type": "markdown",
   "id": "5d9faa8a",
   "metadata": {},
   "source": [
    "The result shows $P$ is SOS.\n",
    "You can reconstruct $P$ by P = H.T @ H"
   ]
  },
  {
   "cell_type": "markdown",
   "id": "3e10210f",
   "metadata": {},
   "source": [
    "### Citation:\n",
    "\n",
    "[1]: A. Papachristodoulou, J. Anderson, G. Valmorbida, S. Prajna, P. Seiler, P. A. Parrilo, M. M. Peet, and D. Jagt, \"4.9 SOS Matrix Decomposition,\" in _Sum of Squares Optimization Toolbox for MATLAB, User’s guide_, Version 4.00, 2021, pp. 51-52."
   ]
  },
  {
   "cell_type": "code",
   "execution_count": null,
   "id": "8de80608",
   "metadata": {},
   "outputs": [],
   "source": []
  }
 ],
 "metadata": {
  "kernelspec": {
   "display_name": "Python 3 (ipykernel)",
   "language": "python",
   "name": "python3"
  },
  "language_info": {
   "codemirror_mode": {
    "name": "ipython",
    "version": 3
   },
   "file_extension": ".py",
   "mimetype": "text/x-python",
   "name": "python",
   "nbconvert_exporter": "python",
   "pygments_lexer": "ipython3",
   "version": "3.10.9"
  }
 },
 "nbformat": 4,
 "nbformat_minor": 5
}
