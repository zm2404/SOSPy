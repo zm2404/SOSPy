{
 "cells": [
  {
   "cell_type": "markdown",
   "id": "76b2f0f4",
   "metadata": {},
   "source": [
    "This demo is from demo 10 in [1]."
   ]
  },
  {
   "cell_type": "code",
   "execution_count": 1,
   "id": "66a5307f",
   "metadata": {},
   "outputs": [],
   "source": [
    "from SOSPy import *\n",
    "from sympy import symbols, Matrix\n",
    "import time"
   ]
  },
  {
   "cell_type": "markdown",
   "id": "1c0d3b03",
   "metadata": {},
   "source": [
    "##  Set Containment "
   ]
  },
  {
   "cell_type": "markdown",
   "id": "2bec785f",
   "metadata": {},
   "source": [
    "This example illustrates how SOSPy (SOSTOOLS) can be used to compute the entries of a polynomial matrix $P$ such that it is an SOS matrix.\n",
    "\n",
    "It has been shown in [2] that if the matrix $P(x)$ given by"
   ]
  },
  {
   "cell_type": "markdown",
   "id": "61f3e6a0",
   "metadata": {},
   "source": [
    "\\begin{gather*}\n",
    "    P(x) = \n",
    "    \\begin{bmatrix}\n",
    "        \\theta^2-s(x)(\\gamma-p(x)) & g_0(x)+g_1(x) \\\\\n",
    "        g_0(x)+g_1(x) & 1\n",
    "    \\end{bmatrix}\n",
    "    \\tag{1}\n",
    "\\end{gather*}"
   ]
  },
  {
   "cell_type": "markdown",
   "id": "d98ffdca",
   "metadata": {},
   "source": [
    "is an SOS matrix, then the following set containment holds:"
   ]
  },
  {
   "cell_type": "markdown",
   "id": "206e9d17",
   "metadata": {},
   "source": [
    "\\begin{gather*}\n",
    "    \\{x\\in \\mathbb{R}^2 | p(x) \\leq \\gamma\\} \\subseteq \n",
    "    \\{x\\in \\mathbb{R}^2 | ((g_0(x)+g_1(x))+\\theta)(\\theta-(g_0(x)+g_1(x))) \\geq 0\\}\n",
    "\\end{gather*}"
   ]
  },
  {
   "cell_type": "markdown",
   "id": "3800f902",
   "metadata": {},
   "source": [
    "where given are $p(x)$, a positive polynomial, $g_0 \\in \\mathbb{R}[x]$, and $\\theta, \\gamma > 0$ are positive scalars. If a polynomial $g_1(x)$ and SOS multiplier $s(x)$ are found, then the set containment holds. This problem is a sum of squares feasibility problem:\n",
    "\n",
    "Given $p(x) \\in \\mathbb{R} [x], g_0(x)\\in \\mathbb{R}[x],\\theta \\in \\mathbb{R},\\gamma \\in \\mathbb{R}$, find"
   ]
  },
  {
   "cell_type": "markdown",
   "id": "91dfcd59",
   "metadata": {},
   "source": [
    "\\begin{gather*}\n",
    "    \\text{polynomial } g_1(x) \\in \\mathbb{R}[x] \\\\\n",
    "    \\text{Sum of Squares } s(x)\n",
    "\\end{gather*}"
   ]
  },
  {
   "cell_type": "markdown",
   "id": "969b9d54",
   "metadata": {},
   "source": [
    "such that (1) is a sum of squares matrix.\n",
    "\n",
    "The feasibility test above is formulated for $p(x)=x_1^2+x_2^2, \\gamma = \\theta = 1$ and $g_0=2x_1$, a sum of squares variable $s(x)$ of degree 4 and a polynomial variable $g_1(x)$ containing monomials of degrees 2 and 3. \n",
    "\n",
    "[//]: # \"This example illustrates the use of function **sosineq()** having a matrix as an input argument\""
   ]
  },
  {
   "cell_type": "code",
   "execution_count": 2,
   "id": "76079225",
   "metadata": {},
   "outputs": [
    {
     "name": "stdout",
     "output_type": "stream",
     "text": [
      "Installed SDP solvers:  ['MOSEK', 'CVXOPT', 'SCS', 'SDPA']\n",
      "\n",
      " Residual norm 1.6534963416926271e-15\n",
      "cpusec: 0.40188\n",
      "iter: 13\n",
      "status: optimal\n",
      "pinf: 0.0\n",
      "dinf: 0.0\n"
     ]
    },
    {
     "data": {
      "text/latex": [
       "$\\displaystyle s= 3.34659 x_{1}^{4} + 0.84698 x_{1}^{2} x_{2}^{2} - 3.49455 x_{1}^{2} + 0.78188 x_{2}^{4} + 0.6796 x_{2}^{2} + 0.55913$"
      ],
      "text/plain": [
       "<IPython.core.display.Math object>"
      ]
     },
     "metadata": {},
     "output_type": "display_data"
    },
    {
     "data": {
      "text/latex": [
       "$\\displaystyle g1= - 1.41466 x_{1}^{3} - 0.82739 x_{1} x_{2}^{2}$"
      ],
      "text/plain": [
       "<IPython.core.display.Math object>"
      ]
     },
     "metadata": {},
     "output_type": "display_data"
    }
   ],
   "source": [
    "x1,x2 = symbols(\"x1,x2\")\n",
    "vartable = [x1,x2]\n",
    "\n",
    "eps = 1e-6\n",
    "\n",
    "# =============================================\n",
    "# This is the problem data\n",
    "p = x1**2+x2**2\n",
    "gamma = 1\n",
    "g0 = (Matrix([[2,0]]) @ Matrix([[x1],[x2]]))[0]\n",
    "theta = 1\n",
    "\n",
    "# =============================================\n",
    "# Initialize the sum of squares program\n",
    "prog = sosprogram(vartable)\n",
    "\n",
    "# =============================================\n",
    "# The multiplier\n",
    "Zmon = monomials(vartable,range(5))\n",
    "prog,s = sospolymatrixvar(prog,Zmon,[1,1])\n",
    "\n",
    "# =============================================\n",
    "# Term to be added to g0\n",
    "Zmon = monomials(vartable,[2,3])\n",
    "prog,g1 = sospolymatrixvar(prog,Zmon,[1,1])\n",
    "\n",
    "# =============================================\n",
    "# The expression to satisfy the set containment\n",
    "Sc = Matrix([[theta**2-s*(gamma-p),g0+g1],[g0+g1,1]])\n",
    "prog = sosmatrixineq(prog,Sc-eps*Matrix.eye(2))\n",
    "\n",
    "options = {}\n",
    "options['solver'] = 'cvxopt'\n",
    "prog = sossolve(prog,options,verbose=0)\n",
    "\n",
    "s = sosgetsol(prog,s,\"s\")\n",
    "g1 = sosgetsol(prog,g1,\"g1\")\n",
    "# =============================================\n",
    "# If program is feasible, { x |((g0+g1) + theta)(theta - (g0+g1)) >=0 } contains { x | p <= gamma }"
   ]
  },
  {
   "cell_type": "markdown",
   "id": "53dcba13",
   "metadata": {},
   "source": [
    "### Citation:\n",
    "\n",
    "[1]: A. Papachristodoulou, J. Anderson, G. Valmorbida, S. Prajna, P. Seiler, P. A. Parrilo, M. M. Peet, and D. Jagt, \"4.10 Set Containment,\" in _Sum of Squares Optimization Toolbox for MATLAB, User’s guide_, Version 4.00, 2021, pp. 53-54.\n",
    "\n",
    "[2]: G. Valmorbida, S. Tarbouriech, and G. Garcia, \"_Design of polynomial control laws for polynomial systems subject to actuator saturation,_\" IEEE Transactions on Automatic Control, vol. 58, no. 7, pp. 1758–1770, July 2013."
   ]
  },
  {
   "cell_type": "code",
   "execution_count": null,
   "id": "61e01e57",
   "metadata": {},
   "outputs": [],
   "source": []
  }
 ],
 "metadata": {
  "kernelspec": {
   "display_name": "Python 3 (ipykernel)",
   "language": "python",
   "name": "python3"
  },
  "language_info": {
   "codemirror_mode": {
    "name": "ipython",
    "version": 3
   },
   "file_extension": ".py",
   "mimetype": "text/x-python",
   "name": "python",
   "nbconvert_exporter": "python",
   "pygments_lexer": "ipython3",
   "version": "3.10.9"
  }
 },
 "nbformat": 4,
 "nbformat_minor": 5
}
