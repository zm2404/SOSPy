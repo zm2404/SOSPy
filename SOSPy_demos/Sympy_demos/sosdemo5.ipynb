{
 "cells": [
  {
   "cell_type": "markdown",
   "id": "e79216d4",
   "metadata": {},
   "source": [
    "This demo is from demo 5 in [1]."
   ]
  },
  {
   "cell_type": "code",
   "execution_count": 1,
   "id": "bb8b27e4",
   "metadata": {},
   "outputs": [],
   "source": [
    "from sympy import symbols, Matrix\n",
    "from SOSPy import *\n",
    "import numpy as np\n",
    "import math"
   ]
  },
  {
   "cell_type": "markdown",
   "id": "92938ff9",
   "metadata": {},
   "source": [
    "## Upper  Bound of Strucutred Singular Value\n"
   ]
  },
  {
   "cell_type": "markdown",
   "id": "8e4704d5",
   "metadata": {},
   "source": [
    "According to Proposition 8.25 of [1] and Theorem 6.1 of [2], we can derive the following conditions. Given a matrix $M \\in \\mathbb{C}^{n \\times n}$ and structed scalar uncertanties $ \\Delta = \\text{diag}(\\delta_1, \\delta_2, \\dots, \\delta_n)$, $\\delta_i \\in \\mathbb{C}$, the structured singular value $\\mu(M,\\Delta)$ is less than $\\gamma$, if there exists solutions $Q_i \\geq 0 \\in \\mathbb{R}^{2n \\times 2n}, T_i \\in \\mathbb{R}^{2n \\times 2n}$ and $r_{ij} \\geq 0$ such that "
   ]
  },
  {
   "cell_type": "markdown",
   "id": "e2394e62",
   "metadata": {},
   "source": [
    "\\begin{gather*}\n",
    "    -\\sum_{i=1}^n \\, Q_i(x) A_i(x) - \\sum_{1\\leq i < j \\leq n} \\, r_{ij} A_i(x) A_j(x) + I(x) \\geq 0 \\tag{1}\n",
    "\\end{gather*}"
   ]
  },
  {
   "cell_type": "markdown",
   "id": "7abec872",
   "metadata": {},
   "source": [
    "where $x\\in \\mathbb{R}^{2n}$,"
   ]
  },
  {
   "cell_type": "markdown",
   "id": "3c4cb215",
   "metadata": {},
   "source": [
    "\\begin{gather}\n",
    "    Q_i(x) = x^TQ_ix,\\\\\n",
    "    I(x) = -\\sum^{2n}_{i=1} \\, x_i^2, \\\\\n",
    "    A_i(x) = x^TA_ix, \\\\\n",
    "    A_i = \\begin{bmatrix} Re(H_i) & -Im(H_i) \\\\ Im(H_i) & Re(H_i) \\end{bmatrix}, \\\\\n",
    "    H_i = M^*e_i^*e_iM - \\gamma^2 e_i^*e_i,\n",
    "\\end{gather}"
   ]
  },
  {
   "cell_type": "markdown",
   "id": "2b55d296",
   "metadata": {},
   "source": [
    "and $e_i$ is the $i$-th unit vector in $\\mathbb{C}^n$.\n",
    "\n",
    "Thus the SOSP for this problem can be formulated as follows:\n",
    "\n",
    "Choose a fixed value of $\\gamma$. For $I(x)$ and $A_i(x)$ as described above, find sums of squares"
   ]
  },
  {
   "cell_type": "markdown",
   "id": "5bb61d87",
   "metadata": {},
   "source": [
    "\\begin{align*}\n",
    "    Q_i(x) &= x^TQ_ix, \\quad \\text{ for } i = 1, \\dots, 2n, \\\\\n",
    "    r_{ij} &\\geq 0  \\text{  (zero order SOS), for } 1 \\leq i < j \\leq 2n,\n",
    "\\end{align*}"
   ]
  },
  {
   "cell_type": "markdown",
   "id": "f5adda57",
   "metadata": {},
   "source": [
    "such that (1) is satisfied.\n",
    "\n",
    "The optimal value of $\\gamma$ can be found for example by bisection. In this example, we consider the following $M$:"
   ]
  },
  {
   "cell_type": "markdown",
   "id": "36f3be58",
   "metadata": {},
   "source": [
    "\\begin{gather}\n",
    "    M = UV^*, \\quad U = \\begin{bmatrix} a & 0 \\\\ b & b \\\\ c & jc \\\\ d & f \\end{bmatrix}, \\quad\n",
    "    V = \\begin{bmatrix} 0&a\\\\b&-b\\\\c&-jc\\\\-jf&-d \\end{bmatrix}\n",
    "\\end{gather}"
   ]
  },
  {
   "cell_type": "markdown",
   "id": "243bf3a7",
   "metadata": {},
   "source": [
    "with $a = \\sqrt{\\frac{2}{\\alpha}},b = c = \\frac{1}{\\sqrt{\\alpha}},d=-\\sqrt{\\frac{\\beta}{\\alpha}},f = (1+j)\\sqrt{\\frac{1}{(\\beta\\alpha)}},\\alpha = 3+\\sqrt{3},\\beta=\\sqrt{3}-1$. It is know that $\\mu(M,\\Delta) \\approx 0.8723$. In this example, we can prove that $\\mu(M,\\Delta) < 0.8724$."
   ]
  },
  {
   "cell_type": "code",
   "execution_count": 2,
   "id": "25925501",
   "metadata": {},
   "outputs": [
    {
     "name": "stdout",
     "output_type": "stream",
     "text": [
      "Installed SDP solvers:  ['MOSEK', 'CVXOPT', 'SCS', 'SDPA']\n",
      "\n",
      " Residual norm 9.74196406409413e-11\n",
      "cpusec: 4.01576\n",
      "iter: 13\n",
      "status: optimal\n",
      "pinf: 0.0\n",
      "dinf: 0.0\n"
     ]
    }
   ],
   "source": [
    "# Running this code may take a while\n",
    "x0,x1,x2,x3,x4,x5,x6,x7 = symbols(\"x0,x1,x2,x3,x4,x5,x6,x7\")\n",
    "vartable = [x0,x1,x2,x3,x4,x5,x6,x7]\n",
    "\n",
    "# The matrix under consideration\n",
    "alpha = 3 + math.sqrt(3)\n",
    "beta = math.sqrt(3) - 1\n",
    "a = math.sqrt(2/alpha)\n",
    "b = 1/math.sqrt(alpha)\n",
    "c = b\n",
    "d = -math.sqrt(beta/alpha)\n",
    "f = (1 + 1j)*math.sqrt(1/(alpha*beta))\n",
    "U = np.array([[a,0],[b,b],[c,1j*c],[d,f]], dtype=complex)\n",
    "V = np.array([[0,a],[b,-b],[c,-1j*c],[-1j*f,-d]], dtype=complex)\n",
    "M = np.dot(U, V.conj().T)\n",
    "\n",
    "# Constructing A(x)'s\n",
    "gam = 0.8724\n",
    "\n",
    "Z = monomials(vartable,[1])\n",
    "Z_mat = Matrix(Z)\n",
    "\n",
    "A = []\n",
    "for i in range(4):\n",
    "    M_row = M[i,:]\n",
    "    H = np.dot(M_row[None,:].conj().T,M_row[None,:])\n",
    "    H[i,i] = H[i,i] - gam**2\n",
    "    H_real = H.real\n",
    "    H_imag = H.imag\n",
    "    H_block = np.vstack((np.hstack((H_real,-H_imag)),np.hstack((H_imag,H_real))))\n",
    "    H_mat = Matrix(H_block.tolist())\n",
    "    A.append((Z_mat.transpose()*H_mat*Z_mat)[0])\n",
    "\n",
    "    \n",
    "# =============================================\n",
    "# Initialize the sum of squares program\n",
    "prog = sosprogram(vartable)\n",
    "\n",
    "# =============================================\n",
    "# Define SOSP variables\n",
    "\n",
    "# -- Q(x)'s -- : sums of squares\n",
    "# Monomial vector: [x1; ... x8]\n",
    "Q = []\n",
    "for i in range(4):\n",
    "    prog,V = sossosvar(prog,Z)\n",
    "    Q.append(V)\n",
    "\n",
    "# -- r's -- : constant sum of squares\n",
    "Z = monomials(vartable,[0])\n",
    "r = Matrix.zeros(4)\n",
    "for i in range(4):\n",
    "    for j in range(i+1,4):\n",
    "        prog,r[i,j] = sossosvar(prog,Z)\n",
    "        \n",
    "# =============================================\n",
    "# Next, define SOSP constraints\n",
    "\n",
    "# Constraint : -sum(Qi(x)*Ai(x)) - sum(rij*Ai(x)*Aj(x)) + I(x) >= 0\n",
    "expr = 0\n",
    "# Adding term\n",
    "for i in range(4):\n",
    "    expr = expr - A[i]*Q[i]\n",
    "    \n",
    "for i in range(4):\n",
    "    for j in range(i+1,4):\n",
    "        expr = expr - A[i]*A[j]*r[i,j]\n",
    "        \n",
    "# Constant term: I(x) = -(x1^4 + ... + x8^4)\n",
    "v_4 = [item**4 for item in vartable]\n",
    "I = -np.sum(v_4)\n",
    "expr = expr + I\n",
    "\n",
    "prog = sosineq(prog,expr)\n",
    "\n",
    "options = {}\n",
    "options['solver'] = 'cvxopt'\n",
    "prog = sossolve(prog,options,verbose=0)"
   ]
  },
  {
   "cell_type": "markdown",
   "id": "7aa2da42",
   "metadata": {},
   "source": [
    "The program is feasible, so 0.8724 is an upper bound for $\\mu$."
   ]
  },
  {
   "cell_type": "markdown",
   "id": "05318412",
   "metadata": {},
   "source": [
    "### Citation:\n",
    "\n",
    "[1]: A. Papachristodoulou, J. Anderson, G. Valmorbida, S. Prajna, P. Seiler, P. A. Parrilo, M. M. Peet, and D. Jagt, \"4.5 Upper Bound of Structured Singular Value,\" in _Sum of Squares Optimization Toolbox for MATLAB, User’s guide_, Version 4.00, 2021, pp. 41-45."
   ]
  },
  {
   "cell_type": "code",
   "execution_count": null,
   "id": "1f598bf7",
   "metadata": {},
   "outputs": [],
   "source": []
  }
 ],
 "metadata": {
  "kernelspec": {
   "display_name": "Python 3 (ipykernel)",
   "language": "python",
   "name": "python3"
  },
  "language_info": {
   "codemirror_mode": {
    "name": "ipython",
    "version": 3
   },
   "file_extension": ".py",
   "mimetype": "text/x-python",
   "name": "python",
   "nbconvert_exporter": "python",
   "pygments_lexer": "ipython3",
   "version": "3.10.9"
  }
 },
 "nbformat": 4,
 "nbformat_minor": 5
}
