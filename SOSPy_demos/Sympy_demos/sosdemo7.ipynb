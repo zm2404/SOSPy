{
 "cells": [
  {
   "cell_type": "markdown",
   "id": "77906d3e",
   "metadata": {},
   "source": [
    "This demo is from demo 7 in [1]."
   ]
  },
  {
   "cell_type": "code",
   "execution_count": 1,
   "id": "5e291297",
   "metadata": {},
   "outputs": [],
   "source": [
    "from sympy import symbols\n",
    "from SOSPy import *\n",
    "import time"
   ]
  },
  {
   "cell_type": "markdown",
   "id": "372f22fd",
   "metadata": {},
   "source": [
    "## Chebyshev Polynomials \n",
    "\n",
    "This example illustrates the **sosineq()** range-specification option for univariate polynomials, and is based on a well-known extremal property of the Chebyshev polynomials. Chebyshev polynomials have extrema in domain [-1,1], and extrema are in range[-1,1]. For an $n$-th order Chebyshev polynomial of the first kind, it has $n$ distinct zeros in the domain [-1,1] and oscillates $n-1$ times in the range [-1,1].\n",
    "\n",
    "Consider the optimization problem:\n",
    "\n",
    "Let $p_n(x)$ be a univariate polynomial of degree $n$, with $\\gamma$ being the coefficient of $x^n$."
   ]
  },
  {
   "cell_type": "markdown",
   "id": "ed1f2cc1",
   "metadata": {},
   "source": [
    "\\begin{align*}\n",
    "    \\text{Maximize } &\\gamma \\\\ \n",
    "    \\text{ subject to: } &|p_n(x)| \\leq 1, \\, \\forall x \\in [-1,1]\n",
    "\\end{align*}"
   ]
  },
  {
   "cell_type": "markdown",
   "id": "200c3d61",
   "metadata": {},
   "source": [
    "The abosolute value constraint can be easily rewritten using two inequalities, namely:"
   ]
  },
  {
   "cell_type": "markdown",
   "id": "6d3c1f5e",
   "metadata": {},
   "source": [
    "\\begin{align*}\n",
    "    1 + p_n(x) \\geq 0, \\, \\forall x \\in [-1,1] \\\\\n",
    "    1 - p_n(x) \\geq 0, \\, \\forall x \\in [-1,1]\n",
    "\\end{align*}"
   ]
  },
  {
   "cell_type": "markdown",
   "id": "73d42dda",
   "metadata": {},
   "source": [
    "The optimal solution is $\\gamma^* = 2^{n-1}$. with $p_n^*(x) = \\arccos{(\\cos{nx})}$ being the $n$-th Chebyshev polynomial of the first kind. "
   ]
  },
  {
   "cell_type": "code",
   "execution_count": 2,
   "id": "ab0b39c8",
   "metadata": {},
   "outputs": [
    {
     "name": "stdout",
     "output_type": "stream",
     "text": [
      "Installed SDP solvers:  ['MOSEK', 'CVXOPT', 'SCS', 'SDPA']\n",
      "\n",
      " Residual norm 2.2576758398118532e-12\n",
      "cpusec: 0.03586\n",
      "iter: 11\n",
      "status: optimal\n",
      "pinf: 0.0\n",
      "dinf: 0.0\n"
     ]
    },
    {
     "data": {
      "text/latex": [
       "$\\displaystyle Polynomial= 128.0 x^{8} - 256.0 x^{6} + 160.0 x^{4} - 32.0 x^{2} + 1.0$"
      ],
      "text/plain": [
       "<IPython.core.display.Math object>"
      ]
     },
     "metadata": {},
     "output_type": "display_data"
    },
    {
     "data": {
      "text/latex": [
       "$\\displaystyle gam= 128.0$"
      ],
      "text/plain": [
       "<IPython.core.display.Math object>"
      ]
     },
     "metadata": {},
     "output_type": "display_data"
    }
   ],
   "source": [
    "x, gam = symbols(\"x, gam\")\n",
    "\n",
    "# Degree of Chebyshev polynomial\n",
    "ndeg = 8\n",
    "\n",
    "# =============================================\n",
    "# First, initialize the sum of squares program\n",
    "prog = sosprogram([x],[gam])\n",
    "\n",
    "# Create the polynomial P\n",
    "Z = monomials([x],range(ndeg))\n",
    "prog,P1 = sospolyvar(prog,Z)\n",
    "P = P1 + gam * x**ndeg\n",
    "\n",
    "# Imposing the inequalities\n",
    "prog = sosineq(prog, 1 - P, [-1, 1])\n",
    "prog = sosineq(prog, 1 + P, [-1, 1])\n",
    "\n",
    "# And setting objective\n",
    "prog = sossetobj(prog, -gam)\n",
    "\n",
    "# Then solve the program\n",
    "prog = sossolve(prog,verbose=0)\n",
    "\n",
    "# =============================================\n",
    "# Finally, get solution\n",
    "SOLV = sosgetsol(prog,P,\"Polynomial\")\n",
    "GAM = sosgetsol(prog,gam)"
   ]
  },
  {
   "cell_type": "markdown",
   "id": "59f6f1f4",
   "metadata": {},
   "source": [
    "[1]: A. Papachristodoulou, J. Anderson, G. Valmorbida, S. Prajna, P. Seiler, P. A. Parrilo, M. M. Peet, and D. Jagt, \"4.7 Chebyshev Polynomials,\" in _Sum of Squares Optimization Toolbox for MATLAB, User’s guide_, Version 4.00, 2021, pp. 46-49."
   ]
  },
  {
   "cell_type": "code",
   "execution_count": null,
   "id": "7136d8aa",
   "metadata": {},
   "outputs": [],
   "source": []
  }
 ],
 "metadata": {
  "kernelspec": {
   "display_name": "Python 3 (ipykernel)",
   "language": "python",
   "name": "python3"
  },
  "language_info": {
   "codemirror_mode": {
    "name": "ipython",
    "version": 3
   },
   "file_extension": ".py",
   "mimetype": "text/x-python",
   "name": "python",
   "nbconvert_exporter": "python",
   "pygments_lexer": "ipython3",
   "version": "3.10.9"
  }
 },
 "nbformat": 4,
 "nbformat_minor": 5
}
