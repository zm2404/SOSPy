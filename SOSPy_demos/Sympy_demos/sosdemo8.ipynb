{
 "cells": [
  {
   "cell_type": "markdown",
   "id": "1a1ae3d8",
   "metadata": {},
   "source": [
    "This demo is from demo 8 in [1]"
   ]
  },
  {
   "cell_type": "code",
   "execution_count": 1,
   "id": "fb3a23e6",
   "metadata": {},
   "outputs": [],
   "source": [
    "from SOSPy import *\n",
    "from sympy import symbols\n",
    "import time"
   ]
  },
  {
   "cell_type": "markdown",
   "id": "1709afe5",
   "metadata": {},
   "source": [
    "## Bounds in Probability\n",
    "\n",
    "In this example we illustrate how the sums of squares programming machinery can be used to obtain bounds on the worst-case probability of an event, given some moment information on the distribution. We refer the reader to the work of Bertsimax and Popescu [2] for a detailed discussion of the general case, as well as references to earlier related work.\n",
    "\n",
    "Consider an unknown arbitrary probability distribution $q(x)$, with support in $x\\in [0,5]$. We know that its mean $\\mu$ is equal to 1, and its standard deviation $\\sigma$ is equal to 1/2. The question is: what is the worst-case probability, over all feasible distributions, of a sample having $x \\leq 4$?\n",
    "\n",
    "Using the tools in [2], it can be shown that a bound on (or in this case, the optimal) worst case value can be found by solving the optimization problem:\n",
    "\n",
    "Minimize $am_0 + bm_1 +cm_2$, subject to"
   ]
  },
  {
   "cell_type": "markdown",
   "id": "c13e3478",
   "metadata": {},
   "source": [
    "\\begin{gather*}\n",
    "    a + bx + cx^2 \\leq 0, \\quad \\forall x \\in [0,5] \\\\\n",
    "    a + bx + cx^2 \\leq 1, \\quad \\forall x \\in [4,5]\n",
    "\\end{gather*}"
   ]
  },
  {
   "cell_type": "markdown",
   "id": "8e230787",
   "metadata": {},
   "source": [
    "where $m_0=1,m_1=\\mu$, and $m_2 = \\mu^2+\\sigma^2$.\n",
    "\n",
    "The optimization problem above is clearly an SOSP.\n",
    "\n",
    "The optimal bound, computed from the optimization problem, is equal to $\\frac{1}{37}$. with the optimal polynomial being $a+bx+cx^2 = (\\frac{12x-11}{37})^2$. The worst case probability distribution is atomic:"
   ]
  },
  {
   "cell_type": "markdown",
   "id": "9b7a66db",
   "metadata": {},
   "source": [
    "\\begin{gather*}\n",
    "    q^*(x) = \\frac{36}{37}\\delta(x-\\frac{11}{12})+\\frac{1}{37}\\delta(x-4)\n",
    "\\end{gather*}"
   ]
  },
  {
   "cell_type": "markdown",
   "id": "e56121ed",
   "metadata": {},
   "source": [
    "All these values (actually, their floating point approximations) can be obtained from the numerical solution obtained using SOSPy (SOSTOOLS)."
   ]
  },
  {
   "cell_type": "code",
   "execution_count": 2,
   "id": "da6296b7",
   "metadata": {},
   "outputs": [
    {
     "name": "stdout",
     "output_type": "stream",
     "text": [
      "Installed SDP solvers:  ['MOSEK', 'CVXOPT', 'SCS', 'SDPA']\n",
      "\n",
      " Residual norm 6.044674604045963e-17\n",
      "cpusec: 0.008\n",
      "iter: 8\n",
      "status: optimal\n",
      "pinf: 0.0\n",
      "dinf: 0.0\n"
     ]
    },
    {
     "data": {
      "text/latex": [
       "$\\displaystyle BND= 0.0270270392149574$"
      ],
      "text/plain": [
       "<IPython.core.display.Math object>"
      ]
     },
     "metadata": {},
     "output_type": "display_data"
    },
    {
     "data": {
      "text/latex": [
       "$\\displaystyle PP= 0.10517 x^{2} - 0.19277 x + 0.08833$"
      ],
      "text/plain": [
       "<IPython.core.display.Math object>"
      ]
     },
     "metadata": {},
     "output_type": "display_data"
    }
   ],
   "source": [
    "x,a,b,c = symbols(\"x,a,b,c\")\n",
    "\n",
    "# The probability adds up to one.\n",
    "m0 = 1\n",
    "\n",
    "# Mean.\n",
    "m1 = 1\n",
    "\n",
    "# Variance\n",
    "sig = 1/2\n",
    "\n",
    "# E(x^2)\n",
    "m2 = sig**2+m1**2\n",
    "\n",
    "# Support of the random variable\n",
    "R = [0,5]\n",
    "\n",
    "# Event whose probability we want to bound\n",
    "E = [4,5]\n",
    "\n",
    "# =============================================\n",
    "# Constructing and solving the SOS program\n",
    "prog = sosprogram([x],[a,b,c])\n",
    "\n",
    "P = a + b*x + c*x**2\n",
    "\n",
    "# Nonnegative on the support\n",
    "prog = sosineq(prog,P,R)\n",
    "\n",
    "# Greater than one on the event\n",
    "prog = sosineq(prog,P-1,E)\n",
    "\n",
    "# The bound\n",
    "bnd =  a * m0 + b * m1 + c * m2 \n",
    "\n",
    "# Objective: minimize the bound\n",
    "prog = sossetobj(prog, bnd)\n",
    "\n",
    "options = {}\n",
    "options['solver'] = 'cvxopt'\n",
    "prog = sossolve(prog,options,verbose=0)\n",
    "\n",
    "# =============================================\n",
    "# Get solution\n",
    "BND = sosgetsol(prog,bnd,\"BND\", 16)\n",
    "PP = sosgetsol(prog,P,\"PP\")"
   ]
  },
  {
   "cell_type": "markdown",
   "id": "1fa22083",
   "metadata": {},
   "source": [
    "### Citation:\n",
    "\n",
    "[1]: A. Papachristodoulou, J. Anderson, G. Valmorbida, S. Prajna, P. Seiler, P. A. Parrilo, M. M. Peet, and D. Jagt, \"4.8 Bounds in Probability,\" in _Sum of Squares Optimization Toolbox for MATLAB, User’s guide_, Version 4.00, 2021, pp. 46-50.\n",
    "\n",
    "[2]: D. Bertsimas and I. Popescu, \"_Optimal inequalities in probability theory: A convex optimization approach,_\" INSEAD, 2002."
   ]
  },
  {
   "cell_type": "code",
   "execution_count": null,
   "id": "d95cbc3a",
   "metadata": {},
   "outputs": [],
   "source": []
  }
 ],
 "metadata": {
  "kernelspec": {
   "display_name": "Python 3 (ipykernel)",
   "language": "python",
   "name": "python3"
  },
  "language_info": {
   "codemirror_mode": {
    "name": "ipython",
    "version": 3
   },
   "file_extension": ".py",
   "mimetype": "text/x-python",
   "name": "python",
   "nbconvert_exporter": "python",
   "pygments_lexer": "ipython3",
   "version": "3.10.9"
  }
 },
 "nbformat": 4,
 "nbformat_minor": 5
}
