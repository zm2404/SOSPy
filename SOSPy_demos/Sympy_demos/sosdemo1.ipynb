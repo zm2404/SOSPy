{
 "cells": [
  {
   "cell_type": "markdown",
   "id": "a3655916",
   "metadata": {},
   "source": [
    "This demo is from demo 1 in [1]."
   ]
  },
  {
   "cell_type": "code",
   "execution_count": 1,
   "id": "ff8439ad",
   "metadata": {},
   "outputs": [],
   "source": [
    "from SOSPy import *\n",
    "from sympy import symbols\n",
    "import numpy as np"
   ]
  },
  {
   "cell_type": "markdown",
   "id": "203c51cb",
   "metadata": {},
   "source": [
    "## Sum of Squares Test\n",
    "\n",
    "Testing if a polynomial $p(x)$ is nonnegative for all $x \\in \\mathbb{R}^n$ can be relaxed to the problem of checking if $p(x)$ is an SOS."
   ]
  },
  {
   "cell_type": "markdown",
   "id": "b82ddb2e",
   "metadata": {},
   "source": [
    "$p(x)$ is an SOS indicating $p(x) = Z^T(x)QZ(x)$. In this problem, $p(x) = 2x_1^4 + 2x_1^3x_2-x_1^2x_2^2+5x_2^4$, the highest degree of monomials in $p(x)$ is 4 and the lowest degree of monomials is also 4, so it is reasonable to choose the highest and lowest degree in $Z(x)$ to be both 2. \n",
    "\n",
    "Therefore, $p(x) = \\begin{bmatrix} x_1^2 & x_1x_2 & x_2^2 \\end{bmatrix} Q \\begin{bmatrix} x_1^2 \\\\ x_1x_2 \\\\ x_2^2 \\end{bmatrix}$. \n",
    "\n",
    "Let $Q = \\begin{bmatrix} q_1 & q_2 & q_3 \\\\ q_4 & q_5 & q_6 \\\\ q_7 & q_8 & q_9 \\end{bmatrix}$. Since $Q$ is symmetric, $q_2 = q_4, q_3 = q_7, q_6 = q_8$, but we don't substitute them yet. (In code, this step is automatically done in MOSEK solver model.)\n",
    "\n",
    "Since $\\begin{bmatrix} x_1^2 & x_1x_2 & x_2^2 \\end{bmatrix} Q \\begin{bmatrix} x_1^2 \\\\ x_1x_2 \\\\ x_2^2 \\end{bmatrix} = 2x_1^4 + 2x_1^3x_2-x_1^2x_2^2+5x_2^4$, we can easily get an equation: \n",
    "$$ \\begin{bmatrix} 0&0&0&0&0&0&0&0&1\\\\0&0&0&0&0&1&0&1&0\\\\0&0&1&0&1&0&1&0&0\\\\0&1&0&1&0&0&0&0&0\\\\1&0&0&0&0&0&0&0&0 \\end{bmatrix} \\begin{bmatrix} q_1\\\\q_2\\\\q_3\\\\q_4\\\\q_5\\\\q_6\\\\q_7\\\\q_8\\\\q_9 \\end{bmatrix} = \\begin{bmatrix} 5\\\\0\\\\-1\\\\2\\\\2 \\end{bmatrix}$$. \n",
    "\n",
    "We can write this in the **SDP primal form** that MOSEK can solve:"
   ]
  },
  {
   "cell_type": "markdown",
   "id": "4061986b",
   "metadata": {},
   "source": [
    "\\begin{align*}\n",
    "    \\text{No Objective Function}\\quad &\\\\\n",
    "    \\text{subject to}\\quad & \\left\\langle\\begin{bmatrix} 0&0&0\\\\0&0&0\\\\0&0&1 \\end{bmatrix}, \\bar{\\mathbf{X}} \\right\\rangle = 5\\\\\n",
    "    & \\left\\langle\\begin{bmatrix} 0&0&0\\\\0&0&1\\\\0&1&0 \\end{bmatrix}, \\bar{\\mathbf{X}} \\right\\rangle = 0\\\\\n",
    "    & \\left\\langle\\begin{bmatrix} 0&0&1\\\\0&1&0\\\\1&0&0 \\end{bmatrix}, \\bar{\\mathbf{X}} \\right\\rangle = -1\\\\\n",
    "    & \\left\\langle\\begin{bmatrix} 0&1&0\\\\1&0&0\\\\0&0&0 \\end{bmatrix}, \\bar{\\mathbf{X}} \\right\\rangle = 2\\\\\n",
    "    & \\left\\langle\\begin{bmatrix} 1&0&0\\\\0&0&0\\\\0&0&0 \\end{bmatrix}, \\bar{\\mathbf{X}} \\right\\rangle = 2\\\\\n",
    "    & \\quad \\bar{\\mathbf{X}} \\succeq 0\n",
    "\\end{align*}"
   ]
  },
  {
   "cell_type": "markdown",
   "id": "8e0931c0",
   "metadata": {},
   "source": [
    "where $\\bar{\\mathbf{X}} = Q = \\begin{bmatrix} q_1 & q_2 & q_3 \\\\ q_4 & q_5 & q_6 \\\\ q_7 & q_8 & q_9 \\end{bmatrix} \\in \\mathbf{S}^3_+$.\n",
    "Since $\\bar{\\mathbf{X}}$ is symmetric, there are 6 variables. \n",
    "\n",
    "If there is a solution, then this problem is feasible, which indicates $p(x) \\geq 0$. The following are about code."
   ]
  },
  {
   "cell_type": "markdown",
   "id": "69e9bdad",
   "metadata": {},
   "source": [
    "First, we declare the symbols $x_1$ and $x_2$, and symbolic expression $p(x)$."
   ]
  },
  {
   "cell_type": "code",
   "execution_count": 2,
   "id": "a5b867d1",
   "metadata": {},
   "outputs": [],
   "source": [
    "[x1,x2] = symbols(\"x1,x2\")\n",
    "vartable = [x1,x2]\n",
    "p = 2*x1**4 + 2*x1**3*x2 - x1**2*x2**2 + 5*x2**4"
   ]
  },
  {
   "cell_type": "markdown",
   "id": "6abaef41",
   "metadata": {},
   "source": [
    "Then, we can initialize the sum of squares program. "
   ]
  },
  {
   "cell_type": "code",
   "execution_count": 3,
   "id": "d3ce1493",
   "metadata": {},
   "outputs": [
    {
     "name": "stdout",
     "output_type": "stream",
     "text": [
      "Installed SDP solvers:  ['MOSEK', 'CVXOPT', 'SCS', 'SDPA']\n"
     ]
    }
   ],
   "source": [
    "prog = sosprogram(vartable)"
   ]
  },
  {
   "cell_type": "markdown",
   "id": "8ec99313",
   "metadata": {},
   "source": [
    "Now, **prog** contains the information of scalar variables $x_1$ and $x_2$."
   ]
  },
  {
   "cell_type": "code",
   "execution_count": 4,
   "id": "4230ce2a",
   "metadata": {},
   "outputs": [
    {
     "name": "stdout",
     "output_type": "stream",
     "text": [
      "Scalar Variables: [x1, x2]\n"
     ]
    }
   ],
   "source": [
    "print('Scalar Variables:', prog.symvartable)"
   ]
  },
  {
   "cell_type": "markdown",
   "id": "841955cd",
   "metadata": {},
   "source": [
    "We can now add Sum of Square inequality to the program."
   ]
  },
  {
   "cell_type": "code",
   "execution_count": 5,
   "id": "e44638da",
   "metadata": {},
   "outputs": [],
   "source": [
    "prog = sosineq(prog,p)"
   ]
  },
  {
   "cell_type": "markdown",
   "id": "f122f4e4",
   "metadata": {},
   "source": [
    "Information about this inequality is stored in **prog.expr**"
   ]
  },
  {
   "cell_type": "code",
   "execution_count": 6,
   "id": "f8cd2a88",
   "metadata": {},
   "outputs": [
    {
     "data": {
      "text/plain": [
       "{'num': 1,\n",
       " 'type': {0: 'ineq'},\n",
       " 'At': {0: <0x4 sparse matrix of type '<class 'numpy.float64'>'\n",
       "  \twith 0 stored elements in Compressed Sparse Row format>},\n",
       " 'b': {0: <4x1 sparse matrix of type '<class 'numpy.float64'>'\n",
       "  \twith 4 stored elements in Compressed Sparse Row format>},\n",
       " 'Z': {0: <4x2 sparse matrix of type '<class 'numpy.intc'>'\n",
       "  \twith 6 stored elements in Compressed Sparse Row format>},\n",
       " 'multipart': {}}"
      ]
     },
     "execution_count": 6,
     "metadata": {},
     "output_type": "execute_result"
    }
   ],
   "source": [
    "prog.expr"
   ]
  },
  {
   "cell_type": "markdown",
   "id": "30029929",
   "metadata": {},
   "source": [
    "We can try to solve the program as a feasibility problem. If the result is feasible, then $p(x)$ is an SOS.\n",
    "\n",
    "The default solver is **cvxopt**, you can use other solvers by specifying **option['solver'] = 'mosek'**, or **option['solver'] = 'scs'**."
   ]
  },
  {
   "cell_type": "code",
   "execution_count": 7,
   "id": "d0a5ab19",
   "metadata": {},
   "outputs": [
    {
     "name": "stdout",
     "output_type": "stream",
     "text": [
      "\n",
      " Residual norm 1.0877919644084146e-15\n",
      "cpusec: 0.004\n",
      "iter: 5\n",
      "status: optimal\n",
      "pinf: 0.0\n",
      "dinf: 0.0\n"
     ]
    }
   ],
   "source": [
    "options = {}\n",
    "#options['solver'] = 'mosek'\n",
    "#options['solver'] = 'scs'\n",
    "prog = sossolve(prog,options,verbose=0)  # Set verbose=1 if you want to view the detailed process, rerun the whole demo"
   ]
  },
  {
   "cell_type": "markdown",
   "id": "3ed18847",
   "metadata": {},
   "source": [
    "The feasible ratio is 1 and status is \"optimal\", so $p(x)$ is an SOS, which indicates $p(x) \\geq 0$ for all $x \\in \\mathbb{R}^2$"
   ]
  },
  {
   "cell_type": "markdown",
   "id": "91475542",
   "metadata": {},
   "source": [
    "### Citation:\n",
    "\n",
    "[1]: A. Papachristodoulou, J. Anderson, G. Valmorbida, S. Prajna, P. Seiler, P. A. Parrilo, M. M. Peet, and D. Jagt, \"4.1 Sum of Squares Test,\" in _Sum of Squares Optimization Toolbox for MATLAB, User’s guide_, Version 4.00, 2021, pp. 33-35."
   ]
  },
  {
   "cell_type": "code",
   "execution_count": null,
   "id": "de59cf1b",
   "metadata": {},
   "outputs": [],
   "source": []
  }
 ],
 "metadata": {
  "kernelspec": {
   "display_name": "Python 3 (ipykernel)",
   "language": "python",
   "name": "python3"
  },
  "language_info": {
   "codemirror_mode": {
    "name": "ipython",
    "version": 3
   },
   "file_extension": ".py",
   "mimetype": "text/x-python",
   "name": "python",
   "nbconvert_exporter": "python",
   "pygments_lexer": "ipython3",
   "version": "3.10.9"
  }
 },
 "nbformat": 4,
 "nbformat_minor": 5
}
