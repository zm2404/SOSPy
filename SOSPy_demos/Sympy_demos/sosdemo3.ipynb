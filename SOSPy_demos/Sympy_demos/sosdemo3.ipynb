{
 "cells": [
  {
   "cell_type": "markdown",
   "id": "bc8d9d74",
   "metadata": {},
   "source": [
    "This demo is from demo 3 in [1]."
   ]
  },
  {
   "cell_type": "code",
   "execution_count": 1,
   "id": "c22c5973",
   "metadata": {},
   "outputs": [],
   "source": [
    "from SOSPy import *\n",
    "from sympy import symbols\n",
    "import time"
   ]
  },
  {
   "cell_type": "markdown",
   "id": "76850bcc",
   "metadata": {},
   "source": [
    "## Global and Constrained Optimization"
   ]
  },
  {
   "cell_type": "markdown",
   "id": "9575b38a",
   "metadata": {},
   "source": [
    "Consider the problem of finding a lower bound for the global minimum of a function $f(x), x\\in \\mathbb{R}^n$. This problem can be converted to find the maximum $\\gamma$ such that $f(x) - \\gamma$ is SOS ($f(x) - \\gamma \\geq 0$), then we know $f(x) \\geq \\gamma$ and $\\gamma$ is the lower bound. \n",
    "\n",
    "The SOSP of this problem is:"
   ]
  },
  {
   "cell_type": "markdown",
   "id": "93075bf1",
   "metadata": {},
   "source": [
    "\\begin{align*}\n",
    "    \\text{Minimize  } & -\\gamma \\\\\n",
    "    \\text{ such that  }&f(x)-\\gamma \\geq 0\n",
    "\\end{align*}"
   ]
  },
  {
   "cell_type": "markdown",
   "id": "f5d44aa0",
   "metadata": {},
   "source": [
    "In this example, we use the Goldstein-Price test function. This function is a mathematical function for testing optimization algorithms.\n",
    "\n",
    "The function is:\n",
    "\n",
    "$f(x) = [1+(x_1+x_2+1)^2(19-14x_1+3x_1^2-14x_2+6x_1x_2+3x_2^2)][30+(2x_1-3x_2)^2(18-32x_1+12x_1^2+48x_2-36x_1x_2+27x_2^2)]$.\n",
    "\n",
    "The global minimum is 3, at $x_1=0$, $x_2=-1$."
   ]
  },
  {
   "cell_type": "code",
   "execution_count": 2,
   "id": "e863a8ac",
   "metadata": {},
   "outputs": [
    {
     "name": "stdout",
     "output_type": "stream",
     "text": [
      "Installed SDP solvers:  ['MOSEK', 'CVXOPT', 'SCS', 'SDPA']\n",
      "     pcost       dcost       gap    pres   dres   k/t\n",
      " 0: -6.0000e+02 -6.0000e+02  1e+05  3e+04  4e+00  1e+00\n",
      " 1:  1.8359e+03  3.8007e+03  7e+04  1e+04  1e+00  2e+03\n",
      " 2:  4.0856e+02  9.1421e+02  9e+03  2e+03  3e-01  5e+02\n",
      " 3: -1.3102e+02 -5.9649e+01  9e+02  3e+02  4e-02  7e+01\n",
      " 4: -4.5105e+01 -3.0427e+01  2e+02  7e+01  8e-03  1e+01\n",
      " 5: -2.2784e+01 -1.8294e+01  5e+01  2e+01  2e-03  4e+00\n",
      " 6: -1.3383e+01 -1.0623e+01  4e+01  1e+01  1e-03  3e+00\n",
      " 7: -4.6405e+00 -4.2961e+00  6e+00  2e+00  2e-04  3e-01\n",
      " 8: -3.4343e+00 -3.3455e+00  1e+00  5e-01  6e-05  9e-02\n",
      " 9: -3.2095e+00 -3.1655e+00  6e-01  2e-01  2e-05  4e-02\n",
      "10: -3.0546e+00 -3.0433e+00  2e-01  5e-02  6e-06  1e-02\n",
      "11: -3.0095e+00 -3.0080e+00  3e-02  9e-03  1e-06  2e-03\n",
      "12: -3.0033e+00 -3.0028e+00  9e-03  3e-03  4e-07  6e-04\n",
      "13: -3.0007e+00 -3.0006e+00  2e-03  7e-04  8e-08  1e-04\n",
      "14: -3.0002e+00 -3.0001e+00  4e-04  2e-04  2e-08  3e-05\n",
      "15: -3.0001e+00 -3.0001e+00  2e-04  6e-05  7e-09  1e-05\n",
      "Optimal solution found.\n",
      "\n",
      " Residual norm 9.116637116258358e-12\n",
      "cpusec: 0.12797\n",
      "iter: 15\n",
      "status: optimal\n",
      "pinf: 6e-05\n",
      "dinf: 0.0\n"
     ]
    },
    {
     "data": {
      "text/latex": [
       "$\\displaystyle gam= 3.0$"
      ],
      "text/plain": [
       "<IPython.core.display.Math object>"
      ]
     },
     "metadata": {},
     "output_type": "display_data"
    }
   ],
   "source": [
    "x1, x2, gam = symbols(\"x1,x2,gam\")\n",
    "vartable = [x1, x2]\n",
    "decvartable = [gam]\n",
    "\n",
    "# =============================================\n",
    "# First, initialize the sum of squares program\n",
    "prog = sosprogram(vartable, decvartable)\n",
    "\n",
    "# =============================================\n",
    "# Next, define SOSP constraints\n",
    "\n",
    "# Constraint : r(x)*(f(x) - gam) >= 0\n",
    "# f(x) is the Goldstein-Price function\n",
    "f1 = x1 + x2 + 1\n",
    "f2 = 19 - 14*x1 + 3*x1**2 - 14*x2 + 6*x1*x2 + 3*x2**2\n",
    "f3 = 2*x1 - 3*x2\n",
    "f4 = 18 - 32*x1 + 12*x1**2 + 48*x2 - 36*x1*x2 + 27*x2**2\n",
    "\n",
    "f = (1 + f1**2*f2) * (30 + f3**2*f4)\n",
    "prog = sosineq(prog, f-gam)\n",
    "\n",
    "# =============================================\n",
    "# Set objective : maximize gam\n",
    "prog = sossetobj(prog,-gam)\n",
    "\n",
    "# =============================================\n",
    "# And call solver\n",
    "options = {}\n",
    "options['solver'] = 'cvxopt'\n",
    "options['abstol'] = 1e-4\n",
    "options['reltol'] = 1e-4\n",
    "options['feastol'] = 1e-4\n",
    "prog = sossolve(prog,options,verbose=1)\n",
    "\n",
    "# =============================================\n",
    "# Finally, get solution\n",
    "SOLgamma = sosgetsol(prog,gam,digit=3)"
   ]
  },
  {
   "cell_type": "markdown",
   "id": "471d9fb9",
   "metadata": {},
   "source": [
    "As shown, the solution indeed is 3"
   ]
  },
  {
   "cell_type": "markdown",
   "id": "cd6f976a",
   "metadata": {},
   "source": [
    "### Citation:\n",
    "\n",
    "[1]: A. Papachristodoulou, J. Anderson, G. Valmorbida, S. Prajna, P. Seiler, P. A. Parrilo, M. M. Peet, and D. Jagt, \"4.3 Global and Constrained Optimization,\" in _Sum of Squares Optimization Toolbox for MATLAB, User’s guide_, Version 4.00, 2021, pp. 36-40."
   ]
  },
  {
   "cell_type": "code",
   "execution_count": null,
   "id": "9c48b3c5",
   "metadata": {},
   "outputs": [],
   "source": []
  }
 ],
 "metadata": {
  "kernelspec": {
   "display_name": "Python 3 (ipykernel)",
   "language": "python",
   "name": "python3"
  },
  "language_info": {
   "codemirror_mode": {
    "name": "ipython",
    "version": 3
   },
   "file_extension": ".py",
   "mimetype": "text/x-python",
   "name": "python",
   "nbconvert_exporter": "python",
   "pygments_lexer": "ipython3",
   "version": "3.10.9"
  }
 },
 "nbformat": 4,
 "nbformat_minor": 5
}
