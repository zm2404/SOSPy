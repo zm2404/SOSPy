{
 "cells": [
  {
   "cell_type": "markdown",
   "id": "45b6a16e",
   "metadata": {},
   "source": [
    "This demo is from demo 2 in [1]."
   ]
  },
  {
   "cell_type": "code",
   "execution_count": 1,
   "id": "2b770d0b",
   "metadata": {},
   "outputs": [],
   "source": [
    "from SOSPy import *\n",
    "from sympy import symbols, Matrix, diff\n",
    "import time"
   ]
  },
  {
   "cell_type": "markdown",
   "id": "62aa1a0e",
   "metadata": {},
   "source": [
    "## Lyapunov Function Search"
   ]
  },
  {
   "cell_type": "markdown",
   "id": "ade3682e",
   "metadata": {},
   "source": [
    "Consider the system $\\begin{bmatrix} \\dot{x_1}\\\\ \\dot{x_2}\\\\ \\dot{x_3} \\end{bmatrix} = \\begin{bmatrix} -x_1^3-x_1x_3^2 \\\\ -x_2-x_1^2x_2 \\\\ -x_3 - \\frac{3x_3}{x_3^2+1} + 3x_1^2x_3 \\end{bmatrix}$ with an equilibrium at the origin. We are interesting in a quadratic Lyapunov function $V(x)$ for proving stability of the system. $V(x)$ satisfies "
   ]
  },
  {
   "cell_type": "markdown",
   "id": "dc91c7e7",
   "metadata": {},
   "source": [
    "\\begin{align*}\n",
    "    V-\\epsilon(x_1^2+x_2^2+x_3^2) \\geq 0 \\\\\n",
    "    -\\frac{\\partial V}{\\partial x_1}\\dot{x_1}-\\frac{\\partial V}{\\partial x_2}\\dot{x_2}-\\frac{\\partial V}{\\partial x_3}\\dot{x_3}\\geq 0\n",
    "\\end{align*}"
   ]
  },
  {
   "cell_type": "markdown",
   "id": "211cb5c8",
   "metadata": {},
   "source": [
    "In the first inequality, $\\epsilon$ is any positive constant used to gaurantee positive definiteness of $V(x)$. And since $\\dot{x_3}$ is a rational function, and $x_3^2+1>0$ for all $x_3$, we can reformulate the second inequality as \n",
    "$$-\\frac{\\partial V}{\\partial x_1}(x_3^2+1)\\dot{x_1}-\\frac{\\partial V}{\\partial x_2}(x_3^2+1)\\dot{x_2}-\\frac{\\partial V}{\\partial x_3}(x_3^2+1)\\dot{x_3}\\geq 0$$"
   ]
  },
  {
   "cell_type": "markdown",
   "id": "de2b0589",
   "metadata": {},
   "source": [
    "In this demo, we assume $V(x) = coeff_1 * x_1^2 + coeff_2 * x_2^2 + coeff_3 * x_3^2$ by defining $V$ being constructed by $[x_1^2, x_2^2, x_3^2]$. "
   ]
  },
  {
   "cell_type": "code",
   "execution_count": 2,
   "id": "f1992b87",
   "metadata": {},
   "outputs": [
    {
     "name": "stdout",
     "output_type": "stream",
     "text": [
      "Installed SDP solvers:  ['MOSEK', 'CVXOPT', 'SCS', 'SDPA']\n"
     ]
    }
   ],
   "source": [
    "# Declare scalar variables\n",
    "x1,x2,x3 = symbols(\"x1,x2,x3\")\n",
    "vartable = [x1,x2,x3]\n",
    "\n",
    "# Use Matrix to construct the system dx/dt\n",
    "# Multiply the system by (x3^2 + 1)\n",
    "f = Matrix([(-x1**3-x1*x3**2)*(x3**2+1), (-x2-x1**2*x2)*(x3**2+1), (-x3+3*x1**2*x3)*(x3**2+1)-3*x3])\n",
    "\n",
    "# =============================================\n",
    "# First, initialize the sum of squares program\n",
    "prog = sosprogram(vartable)"
   ]
  },
  {
   "cell_type": "markdown",
   "id": "9430ab80",
   "metadata": {},
   "source": [
    "Then, we need to construct the Lyapunov function $V(x)$. Assume the monomials in polynomial $V(x)$ are $[x_1^2, x_2^2, x_3^2]$, use **sospolyvar** we generate $V(x) = coeff_0 * x_1^2 + coeff_1 * x_2^2 + coeff_2 * x_3^2$ (index base is 0)."
   ]
  },
  {
   "cell_type": "code",
   "execution_count": 3,
   "id": "15e138d4",
   "metadata": {},
   "outputs": [
    {
     "name": "stdout",
     "output_type": "stream",
     "text": [
      "coeff_0*x1**2 + coeff_1*x2**2 + coeff_2*x3**2\n"
     ]
    }
   ],
   "source": [
    "# =============================================\n",
    "# The Lyapunoc function V(x)\n",
    "prog, V = sospolyvar(prog, [x1**2, x2**2, x3**2])\n",
    "print(V)"
   ]
  },
  {
   "cell_type": "code",
   "execution_count": 4,
   "id": "1d637f68",
   "metadata": {},
   "outputs": [
    {
     "name": "stdout",
     "output_type": "stream",
     "text": [
      "\n",
      " Residual norm 3.3485669911504736e-15\n",
      "cpusec: 0.04917\n",
      "iter: 7\n",
      "status: optimal\n",
      "pinf: 0.0\n",
      "dinf: 0.0\n"
     ]
    },
    {
     "data": {
      "text/latex": [
       "$\\displaystyle V= 7.80739 x_{1}^{2} + 5.17631 x_{2}^{2} + 1.9674 x_{3}^{2}$"
      ],
      "text/plain": [
       "<IPython.core.display.Math object>"
      ]
     },
     "metadata": {},
     "output_type": "display_data"
    }
   ],
   "source": [
    "# ============================================\n",
    "# Next, define SOSP constraints\n",
    "\n",
    "# Constraint 1: V(x) - (x1^2 + x2^2 + x3^2) >= 0\n",
    "prog = sosineq(prog,V-(x1**2+x2**2+x3**2))\n",
    "\n",
    "# Constraint 2: -dV/dx*(x3^2+1)*f >= 0\n",
    "V_grad = Matrix([diff(V, x1), diff(V, x2), diff(V, x3)])\n",
    "expr = -(V_grad.dot(f))  # f(x) is already multiplied by (x3^2+1)\n",
    "prog = sosineq(prog,expr)\n",
    "\n",
    "# =============================================\n",
    "# And Call solver\n",
    "prog = sossolve(prog,verbose=0)\n",
    "\n",
    "# =============================================\n",
    "# Finally, get solution\n",
    "SOLV = sosgetsol(prog,V,\"V\")"
   ]
  },
  {
   "cell_type": "markdown",
   "id": "8ce355ee",
   "metadata": {},
   "source": [
    "As shown, the Lyapunov function is $V(x) = 7.80619*x_1^2 + 4.76377*x_2^2 + 1.93392*x_3^2$. Different solvers may return different solutions."
   ]
  },
  {
   "cell_type": "markdown",
   "id": "63283c78",
   "metadata": {},
   "source": [
    "### Citation:\n",
    "\n",
    "[1]: A. Papachristodoulou, J. Anderson, G. Valmorbida, S. Prajna, P. Seiler, P. A. Parrilo, M. M. Peet, and D. Jagt, \"4.2 Lyapunov Function Search,\" in _Sum of Squares Optimization Toolbox for MATLAB, User’s guide_, Version 4.00, 2021, pp. 34-37."
   ]
  },
  {
   "cell_type": "code",
   "execution_count": null,
   "id": "cbfa23c4",
   "metadata": {},
   "outputs": [],
   "source": []
  }
 ],
 "metadata": {
  "kernelspec": {
   "display_name": "Python 3 (ipykernel)",
   "language": "python",
   "name": "python3"
  },
  "language_info": {
   "codemirror_mode": {
    "name": "ipython",
    "version": 3
   },
   "file_extension": ".py",
   "mimetype": "text/x-python",
   "name": "python",
   "nbconvert_exporter": "python",
   "pygments_lexer": "ipython3",
   "version": "3.10.9"
  }
 },
 "nbformat": 4,
 "nbformat_minor": 5
}
