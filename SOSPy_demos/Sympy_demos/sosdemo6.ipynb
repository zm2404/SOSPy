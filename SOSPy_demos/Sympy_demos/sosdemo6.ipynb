{
 "cells": [
  {
   "cell_type": "markdown",
   "id": "99e8b00f",
   "metadata": {},
   "source": [
    "This demo is from demo 6 in [1]."
   ]
  },
  {
   "cell_type": "code",
   "execution_count": 1,
   "id": "5ff662e1",
   "metadata": {},
   "outputs": [],
   "source": [
    "from sympy import symbols\n",
    "from SOSPy import *\n",
    "import time"
   ]
  },
  {
   "cell_type": "markdown",
   "id": "2e79f30a",
   "metadata": {},
   "source": [
    "## MAX CUT\n",
    "\n",
    "MAX CUT is the problem of partitioning nodes in a graph into two disjoint sets $V_1$ and $V_2$, such that the weighted number of nodes that have an endpoint in $V_1$ and the other in $V_2$ is maximuized. This can be formulated as a boolean optimization problem"
   ]
  },
  {
   "cell_type": "markdown",
   "id": "b5db64db",
   "metadata": {},
   "source": [
    "\\begin{gather}\n",
    "    \\max_{x_i\\in\\{-1,1\\}} \\frac{1}{2} \\sum_{i,j}\\,w_{i,j}(1-x_ix_j),\n",
    "\\end{gather}"
   ]
  },
  {
   "cell_type": "markdown",
   "id": "bd753dec",
   "metadata": {},
   "source": [
    "or equivalently as a constrained optimization"
   ]
  },
  {
   "cell_type": "markdown",
   "id": "ddf9ac4f",
   "metadata": {},
   "source": [
    "\\begin{gather*}\n",
    "    \\max_{x_i^2=1}f(x) \\triangleq \\max_{x_i^2=1} \\frac{1}{2} \\sum_{i,j}\\,w_{i,j}(1-x_ix_j)\n",
    "\\end{gather*}"
   ]
  },
  {
   "cell_type": "markdown",
   "id": "6d305fab",
   "metadata": {},
   "source": [
    "Here $w_{ij}$ is the weight of edge connecting nodes $i$ and $j$. For example we can take $w_{ij}=0$ if nodes $i$ and $j$ are not connected, and $w_{ij}=1$ if they are connected. If node $i$ belongs to $V_1$, then $x_i=1$, and conversely $x_i=-1$ if node $i$ is in $V_2$. For example, for connected nodes $x_1, x_2$ and weight $w_{1,2}=1$, $x_1$ is in $V_1$ and $x_2$ is in $V_2$. Then they contribute a weight of $\\frac{1}{2} \\times 1 \\times (1-(-1)) = 1$.\n",
    "\n",
    "A sufficient condition for $\\max_{x_i^2=1}f(x) \\leq \\gamma$ is as follows. Assume that our graph contains $n$ nodes. Given $f(x)$ and $\\gamma$, then $\\max_{x_i^2=1}f(x) \\leq \\gamma$ if there exist sum of squares $p_1(x)$ and polynomials $p_2(x),\\dots,p_{n+1}(x)$ such that"
   ]
  },
  {
   "cell_type": "markdown",
   "id": "e56d1c08",
   "metadata": {},
   "source": [
    "\\begin{gather*}\n",
    "    p_1(x)(\\gamma-f(x)) + \\sum^n_{i=1}(p_{i+1}(x)(x_i^2-1))-(\\gamma-f(x))^2 \\geq 0 \\tag{2}\n",
    "\\end{gather*}"
   ]
  },
  {
   "cell_type": "markdown",
   "id": "638fccb4",
   "metadata": {},
   "source": [
    "This can be proved by a contradiction. Suppose there exists $x\\in {-1,1}^n$ such that $f(x) > \\gamma$. Then the first term in (2) will be negative, the terms under summation will be zero, and the last term will be negative. Thus we have a contradiction.\n",
    "\n",
    "In this example, we consider the 5-cycle, i.e., a graph with 5 nodes and 5 edges forming a closed chain. The number of cut is given by"
   ]
  },
  {
   "cell_type": "markdown",
   "id": "69ee9d87",
   "metadata": {},
   "source": [
    "\\begin{gather*}\n",
    "    f(x) = 2.5 - 0.5x_1x_2-0.5x_2x_3-0.5x_3x_4-0.5x_4x_5-0.5x_5x_1 \\tag{3}\n",
    "\\end{gather*}"
   ]
  },
  {
   "cell_type": "markdown",
   "id": "df9bfffd",
   "metadata": {},
   "source": [
    "The SOSP is as follows.\n",
    "\n",
    "Choose a fixed value of $\\gamma$. For f(x) given in (3), find"
   ]
  },
  {
   "cell_type": "markdown",
   "id": "848f3f9a",
   "metadata": {},
   "source": [
    "\\begin{align*}\n",
    "    &\\text{sum of squares } p_1(x) = \\begin{bmatrix} 1\\\\x \\end{bmatrix}^T Q \\begin{bmatrix} 1\\\\x \\end{bmatrix} \\\\\n",
    "    &\\text{polynomials } p_{i+1}(x) \\text{ of degree 2, for } i = 1,\\dots,n\n",
    "\\end{align*}"
   ]
  },
  {
   "cell_type": "markdown",
   "id": "ff73e074",
   "metadata": {},
   "source": [
    "such that (2) is satisfied.\n",
    "\n",
    "We choose $\\gamma=4$. "
   ]
  },
  {
   "cell_type": "code",
   "execution_count": 2,
   "id": "50d60c0c",
   "metadata": {},
   "outputs": [
    {
     "name": "stdout",
     "output_type": "stream",
     "text": [
      "Installed SDP solvers:  ['MOSEK', 'CVXOPT', 'SCS', 'SDPA']\n",
      "\n",
      " Residual norm 1.747211052594997e-11\n",
      "cpusec: 0.02999\n",
      "iter: 75\n",
      "status: solved\n",
      "pinf: 0.0\n",
      "dinf: 0.0\n"
     ]
    }
   ],
   "source": [
    "x0,x1,x2,x3,x4 = symbols(\"x0,x1,x2,x3,x4\")\n",
    "vartable = [x0,x1,x2,x3,x4]\n",
    "\n",
    "# Number of cuts\n",
    "f = 2.5 - 0.5*x0*x1 - 0.5*x1*x2 - 0.5*x2*x3 - 0.5*x3*x4 - 0.5*x4*x0\n",
    "\n",
    "# Boolean constraints\n",
    "bc = [None]*5\n",
    "bc[0] = (x0**2-1)\n",
    "bc[1] = (x1**2-1)\n",
    "bc[2] = (x2**2-1)\n",
    "bc[3] = (x3**2-1)\n",
    "bc[4] = (x4**2-1)\n",
    "\n",
    "# =============================================\n",
    "# First, initialize the sum of squares program\n",
    "prog = sosprogram(vartable)\n",
    "\n",
    "# =============================================\n",
    "# Then define SOSP variables\n",
    "\n",
    "# -- p1(x) -- : sum of squares\n",
    "# Monomial vector: 5 independent variables, degree <= 1\n",
    "Z = monomials(vartable,[0,1])\n",
    "p = [None]*6\n",
    "prog,p[0] = sossosvar(prog,Z)\n",
    "\n",
    "# -- p2(x) ... p6(x) : polynomials\n",
    "# Monomial vector: 5 independent variables, degree <= 2\n",
    "Z = monomials(vartable,range(3))\n",
    "for i in range(5):\n",
    "    prog,p[i+1] = sospolyvar(prog,Z)\n",
    "    \n",
    "\n",
    "# =============================================\n",
    "# Next, define SOSP constraints\n",
    "\n",
    "# Constraint : p1(x)*(gamma - f(x)) +  p2(x)*bc1(x)\n",
    "#               + ... + p6(x)*bc5(x) - (gamma-f(x))^2 >= 0\n",
    "gamma = 4\n",
    "\n",
    "expr = p[0]*(gamma-f)\n",
    "for i in range(1,6):\n",
    "    expr = expr + p[i]*bc[i-1]\n",
    "expr = expr - (gamma-f)**2\n",
    "\n",
    "prog = sosineq(prog,expr)\n",
    "\n",
    "# =============================================\n",
    "# And call solver\n",
    "options = {}\n",
    "options['solver'] = 'scs'\n",
    "options['eps_abs'] = 1e-9\n",
    "options['eps_rel'] = 1e-9\n",
    "prog = sossolve(prog,options,verbose=0)"
   ]
  },
  {
   "cell_type": "markdown",
   "id": "38910b2e",
   "metadata": {},
   "source": [
    "The program is feasible, so $\\gamma=4$ is indeed the maximum cut for 5-cycle."
   ]
  },
  {
   "cell_type": "markdown",
   "id": "d12a27c7",
   "metadata": {},
   "source": [
    "### Citation:\n",
    "\n",
    "[1]: A. Papachristodoulou, J. Anderson, G. Valmorbida, S. Prajna, P. Seiler, P. A. Parrilo, M. M. Peet, and D. Jagt, \"4.6 MAX CUT,\" in _Sum of Squares Optimization Toolbox for MATLAB, User’s guide_, Version 4.00, 2021, pp. 43-48."
   ]
  },
  {
   "cell_type": "code",
   "execution_count": 3,
   "id": "d4f8087b",
   "metadata": {},
   "outputs": [
    {
     "data": {
      "text/plain": [
       "{}"
      ]
     },
     "execution_count": 3,
     "metadata": {},
     "output_type": "execute_result"
    }
   ],
   "source": [
    "prog.solinfo['var']"
   ]
  }
 ],
 "metadata": {
  "kernelspec": {
   "display_name": "Python 3 (ipykernel)",
   "language": "python",
   "name": "python3"
  },
  "language_info": {
   "codemirror_mode": {
    "name": "ipython",
    "version": 3
   },
   "file_extension": ".py",
   "mimetype": "text/x-python",
   "name": "python",
   "nbconvert_exporter": "python",
   "pygments_lexer": "ipython3",
   "version": "3.10.9"
  }
 },
 "nbformat": 4,
 "nbformat_minor": 5
}
